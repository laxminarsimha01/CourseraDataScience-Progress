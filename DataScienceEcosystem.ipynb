{
 "cells": [
  {
   "cell_type": "markdown",
   "id": "9d0bbb38-a979-4e19-8a74-0ab15c21cdd3",
   "metadata": {},
   "source": [
    "# Data Science and Ecosystem\n"
   ]
  },
  {
   "cell_type": "markdown",
   "id": "56164b46-4c31-4b6f-809d-b0a09bddc78d",
   "metadata": {},
   "source": [
    "In this notebook, Data Science Tools and conceptsare summarized with few examples."
   ]
  },
  {
   "cell_type": "markdown",
   "id": "52300fdd-2005-40bc-a021-c7010cafdaff",
   "metadata": {},
   "source": [
    "**Objectives**\n",
    "- Data Science Languages\n",
    "- Important Data Science Libraries\n",
    "- Data Science Tools\n",
    "- Couple of arthimetic examples"
   ]
  },
  {
   "cell_type": "markdown",
   "id": "21d8642f-70f8-47fa-82bb-8b0a955eb7d9",
   "metadata": {},
   "source": [
    "Most commonly used Data Science languages used by Data Scientist's are:\n",
    "1. Python\n",
    "2. R\n",
    "3. SQL\n",
    "4. MATLAB\n",
    "5. TensorFlow\n",
    "6. Java"
   ]
  },
  {
   "cell_type": "markdown",
   "id": "3d1e9d58-1ebf-434c-9941-7ed583e7f400",
   "metadata": {},
   "source": [
    "Some of the most commonly used Data Science Libraries by Data Scientists are:\n",
    "\n",
    "1. Pandas\n",
    "2. Numpy\n",
    "3. Matplotlib\n",
    "4. Platly\n",
    "5. Scikit-learn\n",
    "6. tensorflow\n",
    "7. seaborn"
   ]
  },
  {
   "cell_type": "markdown",
   "id": "8231485c-2c07-42b0-9752-bcd930a44157",
   "metadata": {},
   "source": [
    "|Data Science Tools|\n",
    "|---|\n",
    "|Anaconda|\n",
    "|Jupyter Notebook|\n",
    "|R studio|\n",
    "|MatLab|"
   ]
  },
  {
   "cell_type": "markdown",
   "id": "bb63d201-0741-43be-8776-26712bd71e53",
   "metadata": {},
   "source": [
    "## Let's go through few arthimetic expressions examples in Python"
   ]
  },
  {
   "cell_type": "code",
   "execution_count": 1,
   "id": "71626a82-ffb1-4079-bf3a-8833a1c99e2b",
   "metadata": {},
   "outputs": [
    {
     "data": {
      "text/plain": [
       "26"
      ]
     },
     "execution_count": 1,
     "metadata": {},
     "output_type": "execute_result"
    }
   ],
   "source": [
    "# This is a simple arthimetic expression where we will be multiplying the numbers and then adding here\n",
    "\n",
    "(4*5)+6"
   ]
  },
  {
   "cell_type": "code",
   "execution_count": 5,
   "id": "1cb323d8-5863-4cd0-a10f-bfcd1a7158ef",
   "metadata": {},
   "outputs": [
    {
     "name": "stdout",
     "output_type": "stream",
     "text": [
      "400 minutes is equal to 6 hours and 40 minutes\n"
     ]
    }
   ],
   "source": [
    "# This cell is used to convert minutes and hours\n",
    "# Here we are converting 400 minutes into hours\n",
    "\n",
    "m=400\n",
    "h1=400//60\n",
    "h2=400%60\n",
    "\n",
    "print(f\"{m} minutes is equal to {h1} hours and {h2} minutes\")\n"
   ]
  },
  {
   "cell_type": "markdown",
   "id": "160d10d7-5ab8-436d-9a79-8df8584de430",
   "metadata": {},
   "source": [
    "**Author** : Laxmi Narsimha Reddy Nalla"
   ]
  },
  {
   "cell_type": "code",
   "execution_count": null,
   "id": "08314985-1ba4-4a6a-9ebc-67ed1e08966c",
   "metadata": {},
   "outputs": [],
   "source": []
  }
 ],
 "metadata": {
  "kernelspec": {
   "display_name": "Python 3 (ipykernel)",
   "language": "python",
   "name": "python3"
  },
  "language_info": {
   "codemirror_mode": {
    "name": "ipython",
    "version": 3
   },
   "file_extension": ".py",
   "mimetype": "text/x-python",
   "name": "python",
   "nbconvert_exporter": "python",
   "pygments_lexer": "ipython3",
   "version": "3.12.4"
  }
 },
 "nbformat": 4,
 "nbformat_minor": 5
}
